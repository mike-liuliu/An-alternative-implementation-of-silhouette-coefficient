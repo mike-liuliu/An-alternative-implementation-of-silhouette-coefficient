{
 "cells": [
  {
   "cell_type": "code",
   "execution_count": 17,
   "metadata": {},
   "outputs": [],
   "source": [
    "import pandas as pd\n",
    "import numpy as np\n",
    "import seaborn as sns\n",
    "from sklearn.cluster import KMeans\n",
    "from sklearn.metrics import silhouette_score\n",
    " "
   ]
  },
  {
   "cell_type": "code",
   "execution_count": null,
   "metadata": {},
   "outputs": [],
   "source": [
    "\n"
   ]
  },
  {
   "cell_type": "code",
   "execution_count": 18,
   "metadata": {},
   "outputs": [],
   "source": [
    "X= np.random.rand(50,2)\n",
    "Y= 2 + np.random.rand(50,2)\n",
    "Z= np.concatenate((X,Y))\n",
    "Z=pd.DataFrame(Z) #converting into data frame for ease"
   ]
  },
  {
   "cell_type": "code",
   "execution_count": 19,
   "metadata": {},
   "outputs": [
    {
     "data": {
      "text/plain": [
       "<matplotlib.axes._subplots.AxesSubplot at 0x7f9cb6a598d0>"
      ]
     },
     "execution_count": 19,
     "metadata": {},
     "output_type": "execute_result"
    },
    {
     "data": {
      "image/png": "[encoded data removed]",
      "text/plain": [
       "<Figure size 432x288 with 1 Axes>"
      ]
     },
     "metadata": {
      "needs_background": "light"
     },
     "output_type": "display_data"
    }
   ],
   "source": [
    "sns.scatterplot(Z[0],Z[1])"
   ]
  },
  {
   "cell_type": "code",
   "execution_count": 20,
   "metadata": {},
   "outputs": [
    {
     "name": "stdout",
     "output_type": "stream",
     "text": [
      "Silhouette Score(n=2): 0.8174385396125128\n"
     ]
    }
   ],
   "source": [
    "KMean= KMeans(n_clusters=2)\n",
    "KMean.fit(Z)\n",
    "label=KMean.predict(Z)\n",
    "print(f'Silhouette Score(n=2): {silhouette_score(Z, label)}')"
   ]
  },
  {
   "cell_type": "code",
   "execution_count": 21,
   "metadata": {},
   "outputs": [],
   "source": [
    "X = np.array(Z)\n"
   ]
  },
  {
   "cell_type": "code",
   "execution_count": 22,
   "metadata": {},
   "outputs": [],
   "source": [
    "# See https://en.wikipedia.org/wiki/Silhouette_(clustering)\n",
    "\n",
    "def calculate_a_i(inner_index_i, X, cluster_i, label):\n",
    "    C_i = X[label == cluster_i]\n",
    "    # sum_c_i = 0\n",
    "    # for tt in range(len(C_i)):\n",
    "    #     if tt != inner_index_i:\n",
    "    #         sum_c_i += np.linalg.norm(C_i[inner_index_i]- C_i[tt])\n",
    "    sum_c_i = sum([np.linalg.norm(C_i[inner_index_i] - tt) for tt in C_i])\n",
    "    return  sum_c_i/(len(C_i) - 1)\n",
    " \n",
    "def calculate_b_i(inner_index_i, X, cluster_i, label):\n",
    "    C_i = X[label == cluster_i]\n",
    "    X_i = C_i[inner_index_i]\n",
    "    othter_cluster = [pp for pp in set(label) if pp != cluster_i]\n",
    "    min_pool = []\n",
    "    for kk in othter_cluster:\n",
    "        C_j = X[label == kk]\n",
    "        ttt = sum([np.linalg.norm(X_i - tt) for tt in C_j])/len(C_j)\n",
    "        min_pool.append(ttt)\n",
    "    return np.min(min_pool)\n",
    " \n",
    "def calculate_s_i(inner_index_i, X, cluster_i, label):\n",
    "    C_i = X[label == cluster_i]\n",
    "    if len(C_i) == 1:\n",
    "        s_i = 0\n",
    "    else:\n",
    "        a_ii = calculate_a_i(inner_index_i, X, cluster_i, label)\n",
    "        b_ii = calculate_b_i(inner_index_i, X, cluster_i, label)\n",
    "        s_i = (b_ii - a_ii)/np.max([b_ii,a_ii])\n",
    "    return s_i\n",
    " \n",
    "def silhouette_coefficient(X,label):\n",
    "    all_clu = set(label)\n",
    "    cal_mean = []\n",
    "    for cluster_i in all_clu:\n",
    "        X_I = X[label == cluster_i]\n",
    "        for inner_index_i in range(len(X_I)):\n",
    "            s_ii = calculate_s_i(inner_index_i, X, cluster_i, label)\n",
    "            cal_mean.append(s_ii)\n",
    "    return np.mean(cal_mean)"
   ]
  },
  {
   "cell_type": "code",
   "execution_count": 23,
   "metadata": {},
   "outputs": [
    {
     "data": {
      "text/plain": [
       "0.8174385396125128"
      ]
     },
     "execution_count": 23,
     "metadata": {},
     "output_type": "execute_result"
    }
   ],
   "source": [
    "silhouette_score(X, label)"
   ]
  },
  {
   "cell_type": "code",
   "execution_count": 24,
   "metadata": {},
   "outputs": [
    {
     "data": {
      "text/plain": [
       "0.8174385396125128"
      ]
     },
     "execution_count": 24,
     "metadata": {},
     "output_type": "execute_result"
    }
   ],
   "source": [
    "silhouette_coefficient(X,label)"
   ]
  },
  {
   "cell_type": "code",
   "execution_count": null,
   "metadata": {},
   "outputs": [],
   "source": []
  }
 ],
 "metadata": {
  "kernelspec": {
   "display_name": "Python 3",
   "language": "python",
   "name": "python3"
  },
  "language_info": {
   "codemirror_mode": {
    "name": "ipython",
    "version": 3
   },
   "file_extension": ".py",
   "mimetype": "text/x-python",
   "name": "python",
   "nbconvert_exporter": "python",
   "pygments_lexer": "ipython3",
   "version": "3.7.7"
  }
 },
 "nbformat": 4,
 "nbformat_minor": 4
}
